{
 "cells": [
  {
   "cell_type": "markdown",
   "id": "a8d51893",
   "metadata": {},
   "source": [
    "# Análise dos Fatores de Performance de Estudantes\n"
   ]
  },
  {
   "cell_type": "markdown",
   "id": "c09c58ad",
   "metadata": {},
   "source": [
    "## Coleta de Dados"
   ]
  },
  {
   "cell_type": "markdown",
   "id": "9b763b71",
   "metadata": {},
   "source": [
    "O conjunto de dados utilizado neste projeto foi obtido a partir do Kaggle, no seguinte link:\n",
    "https://www.kaggle.com/datasets/lainguyn123/student-performance-factors\n",
    "\n",
    "O dataset contém diversas informações sobre estudantes, com variáveis relacionadas a hábitos de\n",
    "estudo, frequência escolar, relações familiares, entre outras. O objetivo é identificar os principais\n",
    "fatores que influenciam o desempenho dos alunos com base na variável `Exam_Score`, que\n",
    "representa a pontuação obtida no exame final."
   ]
  },
  {
   "cell_type": "markdown",
   "id": "1107dc8f",
   "metadata": {},
   "source": [
    "## Modelagem"
   ]
  },
  {
   "cell_type": "markdown",
   "id": "ee5b811e",
   "metadata": {},
   "source": [
    "Foi realizada uma análise exploratória inicial com visualizações gráficas para compreender a\n",
    "distribuição das variáveis e sua relação com o desempenho dos estudantes. Posteriormente, foram\n",
    "aplicadas técnicas de modelagem preditiva, sendo a Regressão Linear e a Árvore de Regressão\n",
    "(DecisionTreeRegressor) os principais algoritmos utilizados. O foco da modelagem foi prever a\n",
    "variável `Exam_Score` a partir das variáveis explicativas disponíveis no dataset.\n",
    "\n",
    "\n",
    "Além disso, foi realizada a avaliação de importância das variáveis nas árvores de decisão, a fim de\n",
    "entender quais fatores mais contribuíram para o desempenho dos estudantes."
   ]
  },
  {
   "cell_type": "markdown",
   "id": "02099032",
   "metadata": {},
   "source": [
    "## Conclusões"
   ]
  },
  {
   "cell_type": "markdown",
   "id": "6b24ef06",
   "metadata": {},
   "source": [
    "- Fatores como tempo de estudo diário, apoio dos pais e hábitos de sono mostraram forte\n",
    "correlação com a pontuação final.\n",
    "\n",
    "\n",
    "- O modelo de árvore de regressão demonstrou bom desempenho ao capturar padrões não\n",
    "lineares.\n",
    "\n",
    "\n",
    "- A análise evidenciou que variáveis comportamentais e familiares possuem maior impacto na\n",
    "performance dos alunos do que variáveis demográficas simples como idade ou sexo."
   ]
  },
  {
   "cell_type": "markdown",
   "id": "cbf80dad",
   "metadata": {},
   "source": [
    "Esses achados podem ser úteis para instituições educacionais no desenvolvimento de políticas que\n",
    "incentivem melhores práticas de estudo e apoio ao aluno."
   ]
  }
 ],
 "metadata": {
  "kernelspec": {
   "display_name": "Python 3 (ipykernel)",
   "language": "python",
   "name": "python3"
  },
  "language_info": {
   "codemirror_mode": {
    "name": "ipython",
    "version": 3
   },
   "file_extension": ".py",
   "mimetype": "text/x-python",
   "name": "python",
   "nbconvert_exporter": "python",
   "pygments_lexer": "ipython3",
   "version": "3.11.5"
  }
 },
 "nbformat": 4,
 "nbformat_minor": 5
}
